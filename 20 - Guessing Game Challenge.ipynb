{
 "cells": [
  {
   "cell_type": "markdown",
   "metadata": {},
   "source": [
    "# Guessing Game Challenge\n",
    "Let's use while loops to create a guessing game.\n",
    "\n",
    "The Challenge:\n",
    "\n",
    "Write a program that picks a random integer from 1 to 100, and has players guess the number. The rules are:\n",
    "\n",
    "1. If a player's guess is less than 1 or greater than 100, say \"OUT OF BOUNDS\"\n",
    "2. On a player's first turn, if their guess is\n",
    "    - within 10 of the number, return \"WARM!\"\n",
    "    - further than 10 away from the number, return \"COLD!\"\n",
    "3. On all subsequent turns, if a guess is\n",
    "    - closer to the number than the previous guess return \"WARMER!\"\n",
    "    - farther from the number than the previous guess, return \"COLDER!\"\n",
    "4. When the player's guess equals the number, tell them they've guessed correctly and how many guesses it took!\n",
    "\n",
    "You can try this from scratch, or follow the steps outlined below. \n"
   ]
  },
  {
   "cell_type": "markdown",
   "metadata": {},
   "source": [
    "#### 1. First, pick a random integer from 1 to 100 using the random module and assign it to a variable\n",
    "Note: random.randint(a,b) returns a random integer in range [a, b], including both end points.\n",
    "\n",
    "#### Next, print an introduction to the game and explain the rules\n",
    "\n",
    "#### Create a list to store guesses\n",
    "Hint: zero is a good placeholder value. It's useful because it evaluates to \"False\"\n",
    "\n",
    "##### Write a while loop that asks for a valid guess. Test it a few times to make sure it works.\n",
    "\n",
    "\n",
    "##### Write a while loop that compares the player's guess to our number. If the player guesses correctly, break from the loop. Otherwise, tell the player if they're warmer or colder, and continue asking for guesses.\n",
    "Some hints:\n",
    "\n",
    "- it may help to sketch out all possible combinations on paper first!\n",
    "- you can use the abs() function to find the positive difference between two numbers\n",
    "- if you append all new guesses to the list, then the previous guess is given as guesses[-2]\n",
    "\n",
    "That's it, you will have your game ready to play!!!"
   ]
  },
  {
   "cell_type": "code",
   "execution_count": 3,
   "metadata": {},
   "outputs": [
    {
     "name": "stdout",
     "output_type": "stream",
     "text": [
      "Enter Your Guess: 10\n",
      "COLD\n",
      "Ok lets continue\n",
      "[10]\n",
      "Enter your guess: 20\n",
      "Warmer\n",
      "[10, 20]\n",
      "Enter your guess: 25\n",
      "Warmer\n",
      "[10, 20, 25]\n",
      "Enter your guess: 26\n",
      "Warmer\n",
      "[10, 20, 25, 26]\n",
      "Enter your guess: 30\n",
      "Warmer\n",
      "[10, 20, 25, 26, 30]\n",
      "Enter your guess: 35\n",
      "Warmer\n",
      "[10, 20, 25, 26, 30, 35]\n",
      "Enter your guess: 36\n",
      "You have guessed it correct in 7 guesses\n"
     ]
    }
   ],
   "source": [
    "from random import randint\n",
    "\n",
    "num = randint(1,101)\n",
    "guess = []\n",
    "#print(num)\n",
    "\n",
    "while(num):\n",
    "    if (num < 1 or num > 100):\n",
    "        print('OUT OF BOUNDS')\n",
    "    \n",
    "    guess.append(int(input('Enter Your Guess: ')))\n",
    "        \n",
    "    if abs(guess[0] - num) <= 10:\n",
    "        print('WARM')\n",
    "    else: \n",
    "        print('COLD')\n",
    "        \n",
    "    print('Ok lets continue')\n",
    "    print(guess)\n",
    "\n",
    "    for i in range(1,100):\n",
    "        guess.append(int(input('Enter your guess: ')))\n",
    "        \n",
    "        if abs(guess[i] == num):\n",
    "            print('You have guessed it correct in {} guesses'.format(len(guess)))\n",
    "            break\n",
    "        elif abs(guess[i] - num) < abs(guess[i-1] - num):\n",
    "            print('Warmer')\n",
    "        else:\n",
    "            print('Colder') \n",
    "            \n",
    "        print(guess)\n",
    "    break\n",
    "    "
   ]
  }
 ],
 "metadata": {
  "kernelspec": {
   "display_name": "Python 3",
   "language": "python",
   "name": "python3"
  },
  "language_info": {
   "codemirror_mode": {
    "name": "ipython",
    "version": 3
   },
   "file_extension": ".py",
   "mimetype": "text/x-python",
   "name": "python",
   "nbconvert_exporter": "python",
   "pygments_lexer": "ipython3",
   "version": "3.7.1"
  }
 },
 "nbformat": 4,
 "nbformat_minor": 2
}
